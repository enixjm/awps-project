import os

import boto3
import pandas as pd
import json


s3 = boto3.resource('s3')
bucket_name = 'processedprogrammers'

bucket = s3.Bucket(bucket_name)


prefix = './'
for object in bucket.objects.filter():
    if object.key == prefix:
        os.makedirs(os.path.dirname(object.key), exist_ok=True)
        continue;
    bucket.download_file(object.key, object.key)


df = pd.DataFrame()

for obj in bucket.objects.all():
    json_string = obj.get()['Body'].read().decode('utf-8')
    json_dict = json.loads(json_string)
    df = df.append(json_dict, ignore_index=True)


df


df['id'] = df['id'].astype('int')


df



